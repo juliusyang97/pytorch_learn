{
 "cells": [
  {
   "cell_type": "code",
   "execution_count": 1,
   "id": "32052676",
   "metadata": {},
   "outputs": [],
   "source": [
    "%matplotlib inline"
   ]
  },
  {
   "cell_type": "markdown",
   "id": "7149acdb",
   "metadata": {},
   "source": [
    "# 神经网络  \n",
    "\n",
    "可以使用torch.nn包来构建神经网络.  \n",
    "\n",
    "你已知道autograd包,nn包依赖autograd包来定义模型并求导.一个nn.Module包含各个层和一个forward(input)方法,该方法返回output.  \n",
    "\n",
    "例如,我们来看一下下面这个分类数字图像的网络.\n",
    "\n",
    "![neural](../assets/neural.png)\n",
    "\n",
    "他是一个简单的前馈神经网络,它接受一个输入,然后一层接着一层的输入,直到最后得到结果。\n",
    "\n",
    "神经网络的典型训练过程如下:\n",
    "\n",
    "- 定义神经网络模型,它有一些可学习的参数(或者权重);  \n",
    "- 在数据集上迭代;  \n",
    "* 通过神经网络处理输入;  \n",
    "- 计算损失(输出结果和正确值的差距大小)  \n",
    "- 将梯度反向传播回网络参数;  \n",
    "- 更新网络的权重,主要使用如下简单的更新原则:weight = weight - learning_rate * gradient  "
   ]
  },
  {
   "cell_type": "markdown",
   "id": "87968ff2",
   "metadata": {},
   "source": [
    "## 定义网络  \n",
    "\n",
    "定义一个网络"
   ]
  },
  {
   "cell_type": "code",
   "execution_count": 11,
   "id": "ea350197",
   "metadata": {},
   "outputs": [
    {
     "name": "stdout",
     "output_type": "stream",
     "text": [
      "Net(\n",
      "  (conv1): Conv2d(1, 6, kernel_size=(5, 5), stride=(1, 1))\n",
      "  (conv2): Conv2d(6, 16, kernel_size=(5, 5), stride=(1, 1))\n",
      "  (fc1): Linear(in_features=400, out_features=120, bias=True)\n",
      "  (fc2): Linear(in_features=120, out_features=84, bias=True)\n",
      "  (fc3): Linear(in_features=84, out_features=10, bias=True)\n",
      ")\n"
     ]
    }
   ],
   "source": [
    "import torch\n",
    "import torch.nn as nn \n",
    "import torch.nn.functional as F\n",
    "\n",
    "class Net(nn.Module):\n",
    "    \n",
    "    def __init__(self):\n",
    "        super(Net, self).__init__()\n",
    "        # 1 -- 输入图像通道数， 6 -- 输出通道数， 5x5 -- square convolution（平方卷积）\n",
    "        # kernel\n",
    "        self.conv1 = nn.Conv2d(1, 6, 5)\n",
    "        self.conv2 = nn.Conv2d(6, 16, 5)\n",
    "        # 仿射运算  -- an affine operation: y = Wx + b\n",
    "        self.fc1 = nn.Linear(16 * 5 * 5, 120) # 5*5 from image dimension(图像维度)\n",
    "        self.fc2 = nn.Linear(120, 84)\n",
    "        self.fc3 = nn.Linear(84, 10)\n",
    "        \n",
    "        \n",
    "    def forward(self, x):\n",
    "        # Max pooling over a (2, 2) window\n",
    "        x = F.max_pool2d(F.relu(self.conv1(x)), (2, 2))\n",
    "        # If the size is a square, you can specify with a single number\n",
    "        #如果大小为正方形，则可以使用单个数字指定\n",
    "        x = F.max_pool2d(F.relu(self.conv2(x)), 2)\n",
    "        x = torch.flatten(x, 1) # flatten all dimensions except the batch dimension\n",
    "                                # 展开除批次维度以外的所有维度\n",
    "        x = F.relu(self.fc1(x))\n",
    "        x = F.relu(self.fc2(x))\n",
    "        x = self.fc3(x)\n",
    "        return x\n",
    "    \n",
    "net = Net()\n",
    "print(net)\n",
    "\n",
    "        \n"
   ]
  },
  {
   "cell_type": "markdown",
   "id": "d813e4e4",
   "metadata": {},
   "source": [
    "你只需定义forward函数,backward函数(计算梯度)在使用autograd时自动为你创建.你可以在forward函数中使用Tensor的任何操作。\n",
    "\n",
    "net.parameters()返回模型需要学习的参数。"
   ]
  },
  {
   "cell_type": "code",
   "execution_count": 12,
   "id": "007deca0",
   "metadata": {},
   "outputs": [
    {
     "name": "stdout",
     "output_type": "stream",
     "text": [
      "10\n",
      "torch.Size([6, 1, 5, 5])\n"
     ]
    }
   ],
   "source": [
    "params = list(net.parameters())\n",
    "print(len(params))\n",
    "print(params[0].size()) # conv1's .weight"
   ]
  },
  {
   "cell_type": "markdown",
   "id": "0982487d",
   "metadata": {},
   "source": [
    "构造一个随机的32*32的输入，注意:这个网络(LeNet)期望的输入大小是32*32.如果使用MNIST数据集来训练这个网络,请把图片大小重新调整到32*32."
   ]
  },
  {
   "cell_type": "code",
   "execution_count": 16,
   "id": "c456efd3",
   "metadata": {},
   "outputs": [
    {
     "data": {
      "text/plain": [
       "tensor([[-0.0395, -0.0515,  0.1344,  0.0207, -0.0588, -0.0194,  0.0373,  0.0187,\n",
       "          0.0234, -0.0002]], grad_fn=<AddmmBackward>)"
      ]
     },
     "execution_count": 16,
     "metadata": {},
     "output_type": "execute_result"
    }
   ],
   "source": [
    "input = torch.randn(1, 1, 32, 32)\n",
    "out = net(input)\n",
    "out\n"
   ]
  },
  {
   "cell_type": "markdown",
   "id": "dc54b2b1",
   "metadata": {},
   "source": [
    "将所有参数的梯度缓存清零,然后进行随机梯度的的反向传播."
   ]
  },
  {
   "cell_type": "code",
   "execution_count": 17,
   "id": "fad2d828",
   "metadata": {},
   "outputs": [],
   "source": [
    "net.zero_grad()\n",
    "out.backward(torch.randn(1, 10))"
   ]
  },
  {
   "cell_type": "markdown",
   "id": "58ae1490",
   "metadata": {},
   "source": [
    "> 注意：  \n",
    "torch.nn仅支持小批量。整个torch.nn 包仅支持小批量样本的输入，而不支持单个样本。  \n",
    "例如，nn.Conv2d将采用 4D 张量 。nSamples x nChannels x Height x Width  \n",
    "如果您只有一个样本，只需使用input.unsqueeze(0)添加一个伪批次维度即可。\n",
    "\n",
    "\n",
    "在继续之前，让我们回顾一下您目前看到的所有类。"
   ]
  },
  {
   "cell_type": "markdown",
   "id": "964471f7",
   "metadata": {},
   "source": [
    "**回顾**  \n",
    "\n",
    "- torch.Tensor - 一个多维数组，支持像backward(). 还持有张量的梯度w.r.t.\n",
    "- nn.Module - 神经网络模块。封装参数的便捷方式，带有将它们移动到 GPU、导出、加载等的帮助程序。\n",
    "- nn.Parameter - 一种张量，当作为属性分配给 Module.\n",
    "- autograd.Function - 实现autograd 操作的向前和向后定义。每个Tensor操作至少创建一个Function节点，该节点连接到创建一个 Tensor并编码其历史的函数。\n",
    "\n",
    "在这一节，我们介绍了：\n",
    "- 定义神经网络\n",
    "- 处理输入并向后传递\n",
    "还剩：\n",
    "- 计算损失\n",
    "- 更新网络的权重\n",
    "\n"
   ]
  },
  {
   "cell_type": "markdown",
   "id": "48ae5c7f",
   "metadata": {},
   "source": [
    "## 损失函数  \n",
    "\n",
    "损失函数采用（输出，目标）对输入，并计算一个值，该值估计输出与目标的距离。\n",
    "\n",
    "nn 包下有几个不同的 损失函数。一个简单的损失是：`nn.MSELoss`它计算输入和目标之间的均方误差。"
   ]
  },
  {
   "cell_type": "code",
   "execution_count": 18,
   "id": "a4588259",
   "metadata": {},
   "outputs": [
    {
     "name": "stdout",
     "output_type": "stream",
     "text": [
      "tensor(1.9755, grad_fn=<MseLossBackward>)\n"
     ]
    }
   ],
   "source": [
    "output = net(input)\n",
    "target = torch.randn(10)\n",
    "target = target.view(1, -1)\n",
    "criterion = nn.MSELoss()\n",
    "\n",
    "loss = criterion(output, target)\n",
    "print(loss)"
   ]
  },
  {
   "cell_type": "markdown",
   "id": "437a5896",
   "metadata": {},
   "source": [
    "现在,你反向跟踪loss,使用它的.grad_fn属性,你会看到向下面这样的一个计算图:  \n",
    "\n",
    "```\n",
    "input -> conv2d -> relu -> maxpool2d -> conv2d -> relu -> maxpool2d\n",
    "      -> flatten -> linear -> relu -> linear -> relu -> linear\n",
    "      -> MSELoss\n",
    "      -> loss\n",
    "      \n",
    "```"
   ]
  },
  {
   "cell_type": "markdown",
   "id": "24a6dc58",
   "metadata": {},
   "source": [
    "所以, 当你调用loss.backward(),整个图被区分为损失以及图中所有具有requires_grad = True的张量，并且其.grad 张量的梯度累积。\n",
    "\n",
    "为了说明,我们反向跟踪几步:"
   ]
  },
  {
   "cell_type": "code",
   "execution_count": 21,
   "id": "68a7fd26",
   "metadata": {},
   "outputs": [
    {
     "name": "stdout",
     "output_type": "stream",
     "text": [
      "<MseLossBackward object at 0x7fb421ef0160>\n",
      "<AddmmBackward object at 0x7fb42a32eef0>\n",
      "<AccumulateGrad object at 0x7fb421eee470>\n"
     ]
    }
   ],
   "source": [
    "print(loss.grad_fn) # MSELoss\n",
    "print(loss.grad_fn.next_functions[0][0]) # Linear\n",
    "print(loss.grad_fn.next_functions[0][0].next_functions[0][0]) # ReLU"
   ]
  },
  {
   "cell_type": "markdown",
   "id": "91a64445",
   "metadata": {},
   "source": [
    "## Backprop -- 反向传播   \n",
    "\n",
    "为了反向传播误差,我们所需做的是调用loss.backward().你需要清除已存在的梯度,否则梯度将被累加到已存在的梯度。\n",
    "\n",
    "现在,我们将调用loss.backward(),并查看conv1层的偏置项在反向传播前后的梯度。"
   ]
  },
  {
   "cell_type": "code",
   "execution_count": 24,
   "id": "3060dd17",
   "metadata": {},
   "outputs": [
    {
     "name": "stdout",
     "output_type": "stream",
     "text": [
      "conv1.bias.grad before backward\n",
      "tensor([0., 0., 0., 0., 0., 0.])\n"
     ]
    },
    {
     "ename": "RuntimeError",
     "evalue": "Trying to backward through the graph a second time, but the saved intermediate results have already been freed. Specify retain_graph=True when calling backward the first time.",
     "output_type": "error",
     "traceback": [
      "\u001b[0;31m---------------------------------------------------------------------------\u001b[0m",
      "\u001b[0;31mRuntimeError\u001b[0m                              Traceback (most recent call last)",
      "\u001b[0;32m<ipython-input-24-4f7c5e38f066>\u001b[0m in \u001b[0;36m<module>\u001b[0;34m\u001b[0m\n\u001b[1;32m      4\u001b[0m \u001b[0mprint\u001b[0m\u001b[0;34m(\u001b[0m\u001b[0mnet\u001b[0m\u001b[0;34m.\u001b[0m\u001b[0mconv1\u001b[0m\u001b[0;34m.\u001b[0m\u001b[0mbias\u001b[0m\u001b[0;34m.\u001b[0m\u001b[0mgrad\u001b[0m\u001b[0;34m)\u001b[0m\u001b[0;34m\u001b[0m\u001b[0;34m\u001b[0m\u001b[0m\n\u001b[1;32m      5\u001b[0m \u001b[0;34m\u001b[0m\u001b[0m\n\u001b[0;32m----> 6\u001b[0;31m \u001b[0mloss\u001b[0m\u001b[0;34m.\u001b[0m\u001b[0mbackward\u001b[0m\u001b[0;34m(\u001b[0m\u001b[0;34m)\u001b[0m\u001b[0;34m\u001b[0m\u001b[0;34m\u001b[0m\u001b[0m\n\u001b[0m\u001b[1;32m      7\u001b[0m \u001b[0;34m\u001b[0m\u001b[0m\n\u001b[1;32m      8\u001b[0m \u001b[0mprint\u001b[0m\u001b[0;34m(\u001b[0m\u001b[0;34m'conv1.bias.grad after backward'\u001b[0m\u001b[0;34m)\u001b[0m\u001b[0;34m\u001b[0m\u001b[0;34m\u001b[0m\u001b[0m\n",
      "\u001b[0;32m~/miniconda3/envs/fsdet/lib/python3.6/site-packages/torch/tensor.py\u001b[0m in \u001b[0;36mbackward\u001b[0;34m(self, gradient, retain_graph, create_graph)\u001b[0m\n\u001b[1;32m    183\u001b[0m                 \u001b[0mproducts\u001b[0m\u001b[0;34m.\u001b[0m \u001b[0mDefaults\u001b[0m \u001b[0mto\u001b[0m\u001b[0;31m \u001b[0m\u001b[0;31m`\u001b[0m\u001b[0;31m`\u001b[0m\u001b[0;32mFalse\u001b[0m\u001b[0;31m`\u001b[0m\u001b[0;31m`\u001b[0m\u001b[0;34m.\u001b[0m\u001b[0;34m\u001b[0m\u001b[0;34m\u001b[0m\u001b[0m\n\u001b[1;32m    184\u001b[0m         \"\"\"\n\u001b[0;32m--> 185\u001b[0;31m         \u001b[0mtorch\u001b[0m\u001b[0;34m.\u001b[0m\u001b[0mautograd\u001b[0m\u001b[0;34m.\u001b[0m\u001b[0mbackward\u001b[0m\u001b[0;34m(\u001b[0m\u001b[0mself\u001b[0m\u001b[0;34m,\u001b[0m \u001b[0mgradient\u001b[0m\u001b[0;34m,\u001b[0m \u001b[0mretain_graph\u001b[0m\u001b[0;34m,\u001b[0m \u001b[0mcreate_graph\u001b[0m\u001b[0;34m)\u001b[0m\u001b[0;34m\u001b[0m\u001b[0;34m\u001b[0m\u001b[0m\n\u001b[0m\u001b[1;32m    186\u001b[0m \u001b[0;34m\u001b[0m\u001b[0m\n\u001b[1;32m    187\u001b[0m     \u001b[0;32mdef\u001b[0m \u001b[0mregister_hook\u001b[0m\u001b[0;34m(\u001b[0m\u001b[0mself\u001b[0m\u001b[0;34m,\u001b[0m \u001b[0mhook\u001b[0m\u001b[0;34m)\u001b[0m\u001b[0;34m:\u001b[0m\u001b[0;34m\u001b[0m\u001b[0;34m\u001b[0m\u001b[0m\n",
      "\u001b[0;32m~/miniconda3/envs/fsdet/lib/python3.6/site-packages/torch/autograd/__init__.py\u001b[0m in \u001b[0;36mbackward\u001b[0;34m(tensors, grad_tensors, retain_graph, create_graph, grad_variables)\u001b[0m\n\u001b[1;32m    125\u001b[0m     Variable._execution_engine.run_backward(\n\u001b[1;32m    126\u001b[0m         \u001b[0mtensors\u001b[0m\u001b[0;34m,\u001b[0m \u001b[0mgrad_tensors\u001b[0m\u001b[0;34m,\u001b[0m \u001b[0mretain_graph\u001b[0m\u001b[0;34m,\u001b[0m \u001b[0mcreate_graph\u001b[0m\u001b[0;34m,\u001b[0m\u001b[0;34m\u001b[0m\u001b[0;34m\u001b[0m\u001b[0m\n\u001b[0;32m--> 127\u001b[0;31m         allow_unreachable=True)  # allow_unreachable flag\n\u001b[0m\u001b[1;32m    128\u001b[0m \u001b[0;34m\u001b[0m\u001b[0m\n\u001b[1;32m    129\u001b[0m \u001b[0;34m\u001b[0m\u001b[0m\n",
      "\u001b[0;31mRuntimeError\u001b[0m: Trying to backward through the graph a second time, but the saved intermediate results have already been freed. Specify retain_graph=True when calling backward the first time."
     ]
    }
   ],
   "source": [
    "net.zero_grad() #将所有参数的渐变缓冲区归零  \n",
    "\n",
    "print(\"conv1.bias.grad before backward\")\n",
    "print(net.conv1.bias.grad)\n",
    "\n",
    "loss.backward()\n",
    "\n",
    "print('conv1.bias.grad after backward')\n",
    "print(net.conv1.bias.grad)"
   ]
  },
  {
   "cell_type": "markdown",
   "id": "898c62c3",
   "metadata": {},
   "source": [
    "现在，我们已经看到了如何使用损失函数。\n",
    "\n",
    "稍后阅读:\n",
    "神经网络包包含了各种用来构成深度神经网络构建块的模块和损失函数,一份完整的文档查看[这里](https://pytorch.org/docs/nn)"
   ]
  },
  {
   "cell_type": "markdown",
   "id": "160ef1d7",
   "metadata": {},
   "source": [
    "## 更新权重\n",
    "\n",
    "实践中使用的最简单的更新规则是随机梯度下降 (SGD)：\n",
    "\n",
    "```\n",
    "weight = weight - learning_rate * gradient\n",
    "```\n",
    "我们可以使用简单的 Python 代码来实现："
   ]
  },
  {
   "cell_type": "code",
   "execution_count": 25,
   "id": "e59d0bb2",
   "metadata": {},
   "outputs": [],
   "source": [
    "learning_rate = 0.01\n",
    "for f in net.parameters():\n",
    "    f.data.sub_(f.grad.data * learning_rate)"
   ]
  },
  {
   "cell_type": "markdown",
   "id": "7177733b",
   "metadata": {},
   "source": [
    "但是，当您使用神经网络时，您希望使用各种不同的更新规则，例如 SGD、Nesterov-SGD、Adam、RMSProp 等。为了实现这一点，我们构建了一个小包：torch.optim它实现了所有这些方法。使用它非常简单："
   ]
  },
  {
   "cell_type": "code",
   "execution_count": 26,
   "id": "3cd1d6d3",
   "metadata": {},
   "outputs": [],
   "source": [
    "import torch.optim as optim\n",
    "\n",
    "# 创建你的优化器\n",
    "optimizer = optim.SGD(net.parameters(), lr=0.01)\n",
    "\n",
    "# in your training loop:\n",
    "optimizer.zero_grad() # zero the gradient buffers -- 梯度缓冲区归零\n",
    "output = net(input)\n",
    "loss = criterion(output, target)\n",
    "loss.backward() \n",
    "optimizer.step() # Does the update"
   ]
  },
  {
   "cell_type": "markdown",
   "id": "9a07d654",
   "metadata": {},
   "source": [
    "**注意**\n",
    "> 观察如何使用optimizer.zero_grad()手动将梯度缓冲区设置为零。 这是因为梯度是反向传播部分中的说明那样是累积的。"
   ]
  },
  {
   "cell_type": "code",
   "execution_count": null,
   "id": "bedf8f86",
   "metadata": {},
   "outputs": [],
   "source": []
  }
 ],
 "metadata": {
  "kernelspec": {
   "display_name": "Python 3",
   "language": "python",
   "name": "python3"
  },
  "language_info": {
   "codemirror_mode": {
    "name": "ipython",
    "version": 3
   },
   "file_extension": ".py",
   "mimetype": "text/x-python",
   "name": "python",
   "nbconvert_exporter": "python",
   "pygments_lexer": "ipython3",
   "version": "3.6.13"
  }
 },
 "nbformat": 4,
 "nbformat_minor": 5
}
