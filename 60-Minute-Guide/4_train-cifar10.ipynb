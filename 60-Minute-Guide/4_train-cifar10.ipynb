{
 "cells": [
  {
   "cell_type": "markdown",
   "id": "6b991fda",
   "metadata": {},
   "source": [
    "# 训练一个分类器  \n",
    "\n",
    "你已经学会如何去定义一个神经网络,计算损失值和更新网络的权重。\n",
    "\n",
    "你现在可能在思考：数据哪里来呢？"
   ]
  },
  {
   "cell_type": "code",
   "execution_count": 2,
   "id": "1db8844d",
   "metadata": {},
   "outputs": [],
   "source": [
    "%matplotlib inline"
   ]
  },
  {
   "cell_type": "markdown",
   "id": "25e1c354",
   "metadata": {},
   "source": [
    "通常，当你处理图像，文本，音频和视频数据时，你可以使用标准的Python包来加载数据到一个numpy数组中.然后把这个数组转换成torch.*Tensor。\n",
    "\n",
    "- 对于图像,有诸如Pillow,OpenCV包等非常实用\n",
    "- 对于音频,有诸如scipy和librosa包\n",
    "- 对于文本,可以用原始Python和Cython来加载,或者使用NLTK和SpaCy \n",
    "\n",
    "对于视觉,我们创建了一个torchvision包,包含常见数据集的数据加载,比如Imagenet,CIFAR10,MNIST等,和图像转换器,也就是torchvision.datasets和torch.utils.data.DataLoader。\n",
    " \n",
    "这提供了巨大的便利,也避免了代码的重复。\n",
    "\n",
    "在这个教程中,我们使用CIFAR10数据集,它有如下10个类别:`airplane`,`automobile`,`bird`,`cat`,`deer`,`dog`,`frog`,`horse`,`ship`,`truck`。\n",
    "\n",
    "这个数据集中的图像大小为3 * 32 * 32,即,3通道,32*32像素。  \n",
    "![cifar10](../assets/cifar10.png)"
   ]
  },
  {
   "cell_type": "markdown",
   "id": "44dab50e",
   "metadata": {},
   "source": [
    "## 训练一个图像分类器\n",
    "\n",
    "我们将按照下列顺序进行:\n",
    "\n",
    "- 使用torchvision加载和归一化CIFAR10训练集和测试集.\n",
    "- 定义一个卷积神经网络\n",
    "- 定义损失函数\n",
    "- 在训练集上训练网络\n",
    "- 在测试集上测试网络"
   ]
  },
  {
   "cell_type": "markdown",
   "id": "de7a00b1",
   "metadata": {},
   "source": [
    "1. 加载和归一化CIFAR10  \n",
    "\n",
    "使用torchvision加载CIFAR10是非常容易的。"
   ]
  },
  {
   "cell_type": "code",
   "execution_count": 17,
   "id": "bc6064a5",
   "metadata": {},
   "outputs": [],
   "source": [
    "import torch\n",
    "import torchvision\n",
    "import torchvision.transforms as transforms\n",
    "from torch.utils.data import DataLoader\n"
   ]
  },
  {
   "cell_type": "markdown",
   "id": "042b7636",
   "metadata": {},
   "source": [
    "torchvision的输出是[0,1]的PILImage图像,我们把它转换为归一化范围为[-1, 1]的张量。\n",
    "\n",
    "注意\n",
    "> 如果在Windows上运行时出现BrokenPipeError，尝试将torch.utils.data.DataLoader()的num_worker设置为0。"
   ]
  },
  {
   "cell_type": "code",
   "execution_count": 20,
   "id": "104a2251",
   "metadata": {},
   "outputs": [
    {
     "name": "stdout",
     "output_type": "stream",
     "text": [
      "Files already downloaded and verified\n",
      "Files already downloaded and verified\n"
     ]
    }
   ],
   "source": [
    "transform = transforms.Compose([transforms.ToTensor(), \n",
    "                                 transforms.Normalize((0.5, 0.5, 0.5), (0.5, 0.5, 0.5))])\n",
    "\n",
    "batch_size = 4\n",
    "\n",
    "trainset = torchvision.datasets.CIFAR10(root='../dataset/', train=True,\n",
    "                                       download=True, transform=transform)\n",
    "# trainloader = torch.utils.data.DataLoader(trainset, batch_size=batch_size,\n",
    "#                                           shuffle=True, num_workers=2)\n",
    "trainloader = DataLoader(trainset, batch_size=batch_size,\n",
    "                        shuffle=True, num_workers=2)\n",
    "\n",
    "testset = torchvision.datasets.CIFAR10(root='../dataset/', train=False,\n",
    "                                      download=True, transform=transform)\n",
    "testloader = torch.utils.data.DataLoader(testset, batch_size=batch_size, \n",
    "                                        shuffle=False, num_workers=2)\n",
    "\n",
    "classes = ('plane', 'car', 'bird', 'cat', 'deer', 'dog', 'frog', 'horse', 'ship', 'truck')"
   ]
  },
  {
   "cell_type": "code",
   "execution_count": 16,
   "id": "82916c22",
   "metadata": {},
   "outputs": [
    {
     "ename": "AttributeError",
     "evalue": "'Compose' object has no attribute 'Compose'",
     "output_type": "error",
     "traceback": [
      "\u001b[0;31m---------------------------------------------------------------------------\u001b[0m",
      "\u001b[0;31mAttributeError\u001b[0m                            Traceback (most recent call last)",
      "\u001b[0;32m<ipython-input-16-b555f867cf76>\u001b[0m in \u001b[0;36m<module>\u001b[0;34m\u001b[0m\n\u001b[0;32m----> 1\u001b[0;31m transform = transforms.Compose(\n\u001b[0m\u001b[1;32m      2\u001b[0m     [transforms.ToTensor(),\n\u001b[1;32m      3\u001b[0m      transforms.Normalize((0.5, 0.5, 0.5), (0.5, 0.5, 0.5))])\n\u001b[1;32m      4\u001b[0m \u001b[0;34m\u001b[0m\u001b[0m\n\u001b[1;32m      5\u001b[0m \u001b[0mbatch_size\u001b[0m \u001b[0;34m=\u001b[0m \u001b[0;36m4\u001b[0m\u001b[0;34m\u001b[0m\u001b[0;34m\u001b[0m\u001b[0m\n",
      "\u001b[0;31mAttributeError\u001b[0m: 'Compose' object has no attribute 'Compose'"
     ]
    }
   ],
   "source": []
  },
  {
   "cell_type": "code",
   "execution_count": null,
   "id": "a3557be4",
   "metadata": {},
   "outputs": [],
   "source": []
  }
 ],
 "metadata": {
  "kernelspec": {
   "display_name": "Python 3",
   "language": "python",
   "name": "python3"
  },
  "language_info": {
   "codemirror_mode": {
    "name": "ipython",
    "version": 3
   },
   "file_extension": ".py",
   "mimetype": "text/x-python",
   "name": "python",
   "nbconvert_exporter": "python",
   "pygments_lexer": "ipython3",
   "version": "3.6.13"
  }
 },
 "nbformat": 4,
 "nbformat_minor": 5
}
